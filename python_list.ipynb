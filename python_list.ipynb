{
 "cells": [
  {
   "cell_type": "code",
   "execution_count": 1,
   "metadata": {},
   "outputs": [
    {
     "name": "stdout",
     "output_type": "stream",
     "text": [
      "<class 'list'>\n"
     ]
    }
   ],
   "source": [
    "# create lists\n",
    "\n",
    "lagos = [\"mushin\",\"isolo\",\"ikeja\",\"oshodi\"]\n",
    "print(type(lagos))"
   ]
  },
  {
   "cell_type": "code",
   "execution_count": 2,
   "metadata": {},
   "outputs": [
    {
     "data": {
      "text/plain": [
       "'ikeja'"
      ]
     },
     "execution_count": 2,
     "metadata": {},
     "output_type": "execute_result"
    }
   ],
   "source": [
    "# selecting index\n",
    "\n",
    "lagos[2]"
   ]
  },
  {
   "cell_type": "code",
   "execution_count": 3,
   "metadata": {},
   "outputs": [
    {
     "data": {
      "text/plain": [
       "['isolo', 'ikeja']"
      ]
     },
     "execution_count": 3,
     "metadata": {},
     "output_type": "execute_result"
    }
   ],
   "source": [
    "# negative index\n",
    "\n",
    "lagos[-3:-1]"
   ]
  },
  {
   "cell_type": "code",
   "execution_count": 4,
   "metadata": {},
   "outputs": [
    {
     "name": "stdout",
     "output_type": "stream",
     "text": [
      "['kano', 'isolo', 'ikeja', 'oshodi']\n"
     ]
    }
   ],
   "source": [
    "# change item value\n",
    "\n",
    "lagos[0] = \"kano\"\n",
    "print(lagos)"
   ]
  },
  {
   "cell_type": "code",
   "execution_count": 5,
   "metadata": {},
   "outputs": [
    {
     "name": "stdout",
     "output_type": "stream",
     "text": [
      "kano\n",
      "isolo\n",
      "ikeja\n",
      "oshodi\n"
     ]
    }
   ],
   "source": [
    "# loop through list\n",
    "\n",
    "for x in lagos:\n",
    "    print(x)"
   ]
  },
  {
   "cell_type": "code",
   "execution_count": 6,
   "metadata": {},
   "outputs": [
    {
     "name": "stdout",
     "output_type": "stream",
     "text": [
      "4\n"
     ]
    }
   ],
   "source": [
    "# list length\n",
    "\n",
    "print(len(lagos))"
   ]
  },
  {
   "cell_type": "code",
   "execution_count": 7,
   "metadata": {},
   "outputs": [
    {
     "name": "stdout",
     "output_type": "stream",
     "text": [
      "['kano', 'isolo', 'ikeja', 'oshodi', 'badagry']\n"
     ]
    }
   ],
   "source": [
    "# add item to list\n",
    "\n",
    "lagos.append(\"badagry\")\n",
    "\n",
    "print(lagos) "
   ]
  },
  {
   "cell_type": "code",
   "execution_count": 8,
   "metadata": {},
   "outputs": [
    {
     "name": "stdout",
     "output_type": "stream",
     "text": [
      "['kano', 'idumota', 'isolo', 'ikeja', 'oshodi', 'badagry']\n"
     ]
    }
   ],
   "source": [
    "# insert item and specify the position\n",
    "\n",
    "lagos.insert(1, \"idumota\")\n",
    "\n",
    "print(lagos)"
   ]
  },
  {
   "cell_type": "code",
   "execution_count": 9,
   "metadata": {},
   "outputs": [
    {
     "name": "stdout",
     "output_type": "stream",
     "text": [
      "['kano', 'idumota', 'isolo', 'ikeja', 'badagry']\n"
     ]
    }
   ],
   "source": [
    "# remove an item\n",
    "\n",
    "lagos.remove(\"oshodi\")\n",
    "print(lagos)"
   ]
  },
  {
   "cell_type": "code",
   "execution_count": 10,
   "metadata": {},
   "outputs": [
    {
     "name": "stdout",
     "output_type": "stream",
     "text": [
      "['idumota', 'isolo', 'ikeja', 'badagry']\n"
     ]
    }
   ],
   "source": [
    "# pop to remove the index\n",
    "\n",
    "lagos.pop(0)\n",
    "print(lagos)"
   ]
  },
  {
   "cell_type": "code",
   "execution_count": 11,
   "metadata": {},
   "outputs": [
    {
     "name": "stdout",
     "output_type": "stream",
     "text": [
      "['idumota', 'isolo', 'ikeja']\n"
     ]
    }
   ],
   "source": [
    "# deleting of index\n",
    "\n",
    "del lagos[3]\n",
    "print(lagos)"
   ]
  },
  {
   "cell_type": "code",
   "execution_count": 12,
   "metadata": {},
   "outputs": [],
   "source": [
    "# deleting the entire list\n",
    "\n",
    "del lagos"
   ]
  },
  {
   "cell_type": "code",
   "execution_count": 16,
   "metadata": {},
   "outputs": [],
   "source": [
    "# to empty the list\n",
    "\n",
    "lagos = [\"oyo\",\"aba\",\"uyo\",\"ore\"]\n",
    "\n",
    "lagos.clear()"
   ]
  },
  {
   "cell_type": "code",
   "execution_count": 17,
   "metadata": {},
   "outputs": [
    {
     "name": "stdout",
     "output_type": "stream",
     "text": [
      "['oyo', 'aba', 'uyo', 'ore']\n"
     ]
    }
   ],
   "source": [
    "# making a copy\n",
    "\n",
    "lagos = [\"oyo\",\"aba\",\"uyo\",\"ore\"]\n",
    "\n",
    "okoh = lagos.copy()\n",
    "\n",
    "print(okoh)"
   ]
  },
  {
   "cell_type": "code",
   "execution_count": 19,
   "metadata": {},
   "outputs": [
    {
     "name": "stdout",
     "output_type": "stream",
     "text": [
      "['oyo', 'aba', 'uyo', 'ore', 'osun', 'ogun']\n"
     ]
    }
   ],
   "source": [
    "# copy with list\n",
    "\n",
    "lagos= [\"oyo\",\"aba\",\"uyo\",\"ore\",\"osun\",\"ogun\"]\n",
    "\n",
    "south = list(lagos)\n",
    "\n",
    "print(south)"
   ]
  },
  {
   "cell_type": "code",
   "execution_count": 20,
   "metadata": {},
   "outputs": [
    {
     "name": "stdout",
     "output_type": "stream",
     "text": [
      "['oyo', 'aba', 'uyo', 'ore', 'osun', 'ogun', 1, 2, 3, 4]\n"
     ]
    }
   ],
   "source": [
    "# Join Two Lists\n",
    "\n",
    "southpark = [1,2,3,4]\n",
    "\n",
    "nigeria = south + southpark\n",
    "\n",
    "print(nigeria)"
   ]
  },
  {
   "cell_type": "code",
   "execution_count": 1,
   "metadata": {},
   "outputs": [
    {
     "name": "stdout",
     "output_type": "stream",
     "text": [
      "['wales', 'aberdeen', 'glasgow', 'yale', 'MIT', 'oxford']\n"
     ]
    }
   ],
   "source": [
    "# Append list2 into list1\n",
    "\n",
    "list1 = [\"wales\",\"aberdeen\",\"glasgow\"]\n",
    "list2 = [\"yale\",\"MIT\",\"oxford\"]\n",
    "\n",
    "for x in list2:\n",
    "    \n",
    "    list1.append(x)\n",
    "    \n",
    "print(list1)"
   ]
  },
  {
   "cell_type": "code",
   "execution_count": 2,
   "metadata": {},
   "outputs": [
    {
     "name": "stdout",
     "output_type": "stream",
     "text": [
      "['wales', 'aberdeen', 'glasgow', 'yale', 'MIT', 'oxford', 'yale', 'MIT', 'oxford']\n"
     ]
    }
   ],
   "source": [
    "# Use the extend() method to add list2 at the end of list1\n",
    "\n",
    "list1.extend(list2)\n",
    "print(list1)"
   ]
  },
  {
   "cell_type": "code",
   "execution_count": 3,
   "metadata": {},
   "outputs": [
    {
     "name": "stdout",
     "output_type": "stream",
     "text": [
      "[1, 2, 3, 4, 5, 6, 7, 8]\n"
     ]
    }
   ],
   "source": [
    "# The list() Constructor\n",
    "# Using the list() constructor to make a List:\n",
    "\n",
    "list3 = list((1,2,3,4,5,6,7,8))\n",
    "\n",
    "print(list3)"
   ]
  },
  {
   "cell_type": "code",
   "execution_count": 11,
   "metadata": {},
   "outputs": [
    {
     "name": "stdout",
     "output_type": "stream",
     "text": [
      "[8, 7, 6, 5, 4, 3, 2, 1]\n"
     ]
    }
   ],
   "source": [
    "# reverse the order of a list\n",
    "\n",
    "list3 = [1, 2, 3, 4, 5, 6, 7, 8]\n",
    "\n",
    "list3.reverse()\n",
    "print(list3)"
   ]
  },
  {
   "cell_type": "code",
   "execution_count": 12,
   "metadata": {},
   "outputs": [
    {
     "name": "stdout",
     "output_type": "stream",
     "text": [
      "[1, 2, 3, 4, 5, 6, 7, 8]\n"
     ]
    }
   ],
   "source": [
    "# sort list( rearrage the order)\n",
    "\n",
    "list3.sort()\n",
    "print(list3)"
   ]
  },
  {
   "cell_type": "code",
   "execution_count": null,
   "metadata": {},
   "outputs": [],
   "source": []
  }
 ],
 "metadata": {
  "kernelspec": {
   "display_name": "Python 3",
   "language": "python",
   "name": "python3"
  },
  "language_info": {
   "codemirror_mode": {
    "name": "ipython",
    "version": 3
   },
   "file_extension": ".py",
   "mimetype": "text/x-python",
   "name": "python",
   "nbconvert_exporter": "python",
   "pygments_lexer": "ipython3",
   "version": "3.6.5"
  }
 },
 "nbformat": 4,
 "nbformat_minor": 2
}
