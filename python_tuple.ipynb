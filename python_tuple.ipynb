{
 "cells": [
  {
   "cell_type": "code",
   "execution_count": 1,
   "metadata": {},
   "outputs": [
    {
     "name": "stdout",
     "output_type": "stream",
     "text": [
      "<class 'tuple'>\n"
     ]
    }
   ],
   "source": [
    "#  tuple is a collection which is ordered and unchangeable. \n",
    "# tuples are written with round brackets and \n",
    "\n",
    "# how to create a tuple\n",
    "\n",
    "tup = (\"newcastle\",\"arsenal\",\"chelsea\",\"liverpool\")\n",
    "print(type(tup))"
   ]
  },
  {
   "cell_type": "code",
   "execution_count": 18,
   "metadata": {},
   "outputs": [
    {
     "name": "stdout",
     "output_type": "stream",
     "text": [
      "('school',)\n",
      "<class 'tuple'>\n"
     ]
    }
   ],
   "source": [
    "# creating one item tuple// always remember to include a comma, in a one item tuple\n",
    "\n",
    "x = (\"school\",)\n",
    "print(x)\n",
    "print(type(x))"
   ]
  },
  {
   "cell_type": "code",
   "execution_count": 16,
   "metadata": {},
   "outputs": [
    {
     "name": "stdout",
     "output_type": "stream",
     "text": [
      "spurs\n",
      "<class 'tuple'>\n"
     ]
    }
   ],
   "source": [
    "# accessing items on tuple\n",
    "\n",
    "print(tup[1])\n",
    "print(type(tup))"
   ]
  },
  {
   "cell_type": "code",
   "execution_count": 3,
   "metadata": {},
   "outputs": [
    {
     "name": "stdout",
     "output_type": "stream",
     "text": [
      "chelsea\n"
     ]
    }
   ],
   "source": [
    "# accessing tuple using negative index \n",
    "\n",
    "print(tup[-2])"
   ]
  },
  {
   "cell_type": "code",
   "execution_count": 4,
   "metadata": {},
   "outputs": [
    {
     "name": "stdout",
     "output_type": "stream",
     "text": [
      "('arsenal', 'chelsea')\n"
     ]
    }
   ],
   "source": [
    "# acessing range of negative items\n",
    "\n",
    "print(tup[-3 : -1])"
   ]
  },
  {
   "cell_type": "code",
   "execution_count": 5,
   "metadata": {},
   "outputs": [
    {
     "name": "stdout",
     "output_type": "stream",
     "text": [
      "('newcastle', 'arsenal', 'chelsea', 'liverpool')\n",
      "('arsenal', 'chelsea', 'liverpool')\n"
     ]
    }
   ],
   "source": [
    "# accessing range of items in a tuple\n",
    "\n",
    "tup = (\"newcastle\",\"arsenal\",\"chelsea\",\"liverpool\")\n",
    "\n",
    "print(tup[:])\n",
    "print(tup[1:4])"
   ]
  },
  {
   "cell_type": "code",
   "execution_count": 6,
   "metadata": {},
   "outputs": [
    {
     "name": "stdout",
     "output_type": "stream",
     "text": [
      "('newcastle', 'spurs', 'arsenal', 'chelsea', 'liverpool')\n"
     ]
    }
   ],
   "source": [
    "# making changes in tuple\n",
    "# once a tuple is created it can't be changed\n",
    "# however, one can work around it by (1) converting tuple to list (2) make the changes (3) convert back to tuple\n",
    "\n",
    "x = list((tup))\n",
    "x.insert(1, \"spurs\")\n",
    "tup = tuple(x)\n",
    "print(tup)"
   ]
  },
  {
   "cell_type": "code",
   "execution_count": 7,
   "metadata": {},
   "outputs": [
    {
     "name": "stdout",
     "output_type": "stream",
     "text": [
      "newcastle\n",
      "spurs\n",
      "arsenal\n",
      "chelsea\n",
      "liverpool\n"
     ]
    }
   ],
   "source": [
    "# Loop Through a Tuple\n",
    "\n",
    "for x in tup:\n",
    "    print(x)"
   ]
  },
  {
   "cell_type": "code",
   "execution_count": 8,
   "metadata": {},
   "outputs": [
    {
     "name": "stdout",
     "output_type": "stream",
     "text": [
      "I am a fan of newcastle united\n"
     ]
    }
   ],
   "source": [
    "# Check if Item Exists\n",
    "\n",
    "if \"newcastle\" in tup:\n",
    "    print(\"I am a fan of newcastle united\")"
   ]
  },
  {
   "cell_type": "code",
   "execution_count": 9,
   "metadata": {},
   "outputs": [
    {
     "name": "stdout",
     "output_type": "stream",
     "text": [
      "5\n"
     ]
    }
   ],
   "source": [
    "# tuple length\n",
    "\n",
    "print(len(tup))"
   ]
  },
  {
   "cell_type": "code",
   "execution_count": 21,
   "metadata": {},
   "outputs": [
    {
     "ename": "NameError",
     "evalue": "name 'x' is not defined",
     "output_type": "error",
     "traceback": [
      "\u001b[1;31m---------------------------------------------------------------------------\u001b[0m",
      "\u001b[1;31mNameError\u001b[0m                                 Traceback (most recent call last)",
      "\u001b[1;32m<ipython-input-21-ac206174e405>\u001b[0m in \u001b[0;36m<module>\u001b[1;34m()\u001b[0m\n\u001b[0;32m      3\u001b[0m \u001b[1;33m\u001b[0m\u001b[0m\n\u001b[0;32m      4\u001b[0m \u001b[1;32mdel\u001b[0m \u001b[0mx\u001b[0m\u001b[1;33m\u001b[0m\u001b[0m\n\u001b[1;32m----> 5\u001b[1;33m \u001b[0mprint\u001b[0m\u001b[1;33m(\u001b[0m\u001b[0mx\u001b[0m\u001b[1;33m)\u001b[0m \u001b[1;31m# this will generate an error because the tuple no longer exist\u001b[0m\u001b[1;33m\u001b[0m\u001b[0m\n\u001b[0m",
      "\u001b[1;31mNameError\u001b[0m: name 'x' is not defined"
     ]
    }
   ],
   "source": [
    "# remove an item\n",
    "# items can't be remove from tuple but the whole can be deleted\n",
    "\n",
    "del x\n",
    "print(x) # this will generate an error because the tuple no longer exist"
   ]
  },
  {
   "cell_type": "code",
   "execution_count": 25,
   "metadata": {},
   "outputs": [
    {
     "name": "stdout",
     "output_type": "stream",
     "text": [
      "('chalk', 'school', 'homework', 'uniform', 'biro', 'pencil', 'eraser')\n"
     ]
    }
   ],
   "source": [
    "# Join two tuples:\n",
    "\n",
    "x = (\"chalk\",\"school\",\"homework\",\"uniform\")\n",
    "v = (\"biro\",\"pencil\",\"eraser\")\n",
    "y = (x + v)\n",
    "print(y)"
   ]
  },
  {
   "cell_type": "code",
   "execution_count": 28,
   "metadata": {},
   "outputs": [
    {
     "name": "stdout",
     "output_type": "stream",
     "text": [
      "('liverpool united', 'have won champions league', 'for a total of 10 times')\n"
     ]
    }
   ],
   "source": [
    "# The tuple() Constructor\n",
    "# creating tuple using the double bracket\n",
    "\n",
    "z = tuple((\"liverpool united\",\"have won champions league\", \"for a total of 10 times\" ))\n",
    "print(z)"
   ]
  },
  {
   "cell_type": "code",
   "execution_count": 29,
   "metadata": {},
   "outputs": [
    {
     "name": "stdout",
     "output_type": "stream",
     "text": [
      "1\n"
     ]
    }
   ],
   "source": [
    "# Python Tuple count() Method\n",
    "\n",
    "w = y.count(\"biro\")\n",
    "print(w)"
   ]
  },
  {
   "cell_type": "code",
   "execution_count": 31,
   "metadata": {},
   "outputs": [
    {
     "name": "stdout",
     "output_type": "stream",
     "text": [
      "5\n"
     ]
    }
   ],
   "source": [
    "# Python Tuple index() Method\n",
    "# search for the 1st occurence of a value and return its position\n",
    "\n",
    "j = y.index(\"pencil\")\n",
    "print(j)"
   ]
  },
  {
   "cell_type": "code",
   "execution_count": null,
   "metadata": {},
   "outputs": [],
   "source": []
  }
 ],
 "metadata": {
  "kernelspec": {
   "display_name": "Python 3",
   "language": "python",
   "name": "python3"
  },
  "language_info": {
   "codemirror_mode": {
    "name": "ipython",
    "version": 3
   },
   "file_extension": ".py",
   "mimetype": "text/x-python",
   "name": "python",
   "nbconvert_exporter": "python",
   "pygments_lexer": "ipython3",
   "version": "3.6.5"
  }
 },
 "nbformat": 4,
 "nbformat_minor": 2
}
